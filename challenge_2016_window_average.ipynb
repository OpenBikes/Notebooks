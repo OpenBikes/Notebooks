{
 "cells": [
  {
   "cell_type": "markdown",
   "metadata": {},
   "source": [
    "# Average number of bikes by windowing\n",
    "\n",
    "This notebook calculates the average number of bikes at a given time by looking at all the moments that are comprised in a given interval around the given time. This performs slightly better than `challenge_2016_hourly_average` because it avoids the \"step\" effect - for example 14h59 is in the 14h00-15h00 interval but it's on the edge; it \"feels\" more right to look at the 14h29-15h29 interval. However this method is \"lazier\" and makes all it's calculations online whereas `challenge_2016_hourly_average` does it's calculations offline."
   ]
  },
  {
   "cell_type": "code",
   "execution_count": 2,
   "metadata": {
    "collapsed": false
   },
   "outputs": [],
   "source": [
    "import datetime as dt\n",
    "import pandas as pd\n",
    "\n",
    "\n",
    "def get_station_updates(city, station):\n",
    "    df = pd.read_csv('challenge_data/part_1/{}/stations/{}.csv'.format(city, station))\n",
    "    df['moment'] = pd.to_datetime(df['moment'])\n",
    "    return df\n",
    "\n",
    "\n",
    "def add(t, delta):\n",
    "    return (dt.datetime.combine(dt.date(1,1,1), t) + delta).time()\n",
    "\n",
    "d = dt.timedelta(minutes=20)\n",
    "\n",
    "def window_mean_bikes(city, station, timestamps):\n",
    "    df = get_station_updates(city, station)\n",
    "    df['on'] = df['moment'].map(lambda x: x.weekday())\n",
    "    df['at'] = df['moment'].map(lambda x: x.time())\n",
    "    means = {\n",
    "        t: df[\n",
    "            (df['on'] == t.weekday()) &\n",
    "            (df['at'] < add(t.time(), d)) &\n",
    "            (add(t.time(), -d) < df['at'])\n",
    "        ]['bikes'].mean()\n",
    "        for t in timestamps\n",
    "    }\n",
    "    return means\n",
    "\n",
    "\n",
    "to_predict_df = pd.read_csv('challenge_data/part_1/test-blank.csv', index_col=0)\n",
    "to_predict_df['moment'] = pd.to_datetime(to_predict_df.index)\n",
    "\n",
    "city = 'toulouse'\n",
    "station = '00003-pomme'\n",
    "timestamps = to_predict_df[to_predict_df['station'] == station]['moment'].tolist()\n",
    "\n",
    "means = {\n",
    "    city_name: {\n",
    "        station_name: window_mean_bikes(\n",
    "            city_name,\n",
    "            station_name,\n",
    "            timestamps\n",
    "        )\n",
    "        for station_name in rows['station'].unique()\n",
    "    }\n",
    "    for city_name, rows in to_predict_df.groupby('city')\n",
    "}"
   ]
  },
  {
   "cell_type": "code",
   "execution_count": 3,
   "metadata": {
    "collapsed": false
   },
   "outputs": [],
   "source": [
    "to_predict_df['bikes'] = to_predict_df.apply(lambda r: means[r['city']][r['station']][r['moment']], axis=1).tolist()\n",
    "to_predict_df.drop('moment', axis=1, inplace=True)\n",
    "to_predict_df.to_csv('submission.csv')"
   ]
  }
 ],
 "metadata": {
  "kernelspec": {
   "display_name": "Python 3",
   "language": "python",
   "name": "python3"
  },
  "language_info": {
   "codemirror_mode": {
    "name": "ipython",
    "version": 3
   },
   "file_extension": ".py",
   "mimetype": "text/x-python",
   "name": "python",
   "nbconvert_exporter": "python",
   "pygments_lexer": "ipython3",
   "version": "3.5.2"
  }
 },
 "nbformat": 4,
 "nbformat_minor": 0
}
