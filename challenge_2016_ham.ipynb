{
 "cells": [
  {
   "cell_type": "code",
   "execution_count": 60,
   "metadata": {
    "collapsed": false
   },
   "outputs": [],
   "source": [
    "import pandas as pd"
   ]
  },
  {
   "cell_type": "markdown",
   "metadata": {},
   "source": [
    "## Utility functions"
   ]
  },
  {
   "cell_type": "code",
   "execution_count": 61,
   "metadata": {
    "collapsed": true
   },
   "outputs": [],
   "source": [
    "def get_station_updates(city, station):\n",
    "    df = pd.read_csv('challenge_data/{}/stations/{}.csv'.format(city, station))\n",
    "    df.drop_duplicates(subset='moment', inplace=True)\n",
    "    df['moment'] = pd.to_datetime(df['moment'])\n",
    "    return df\n",
    "\n",
    "\n",
    "def get_weather_updates(city):\n",
    "    df = pd.read_csv('challenge_data/{}/weather.csv'.format(city))\n",
    "    df.drop_duplicates(subset='moment', inplace=True)\n",
    "    df['moment'] = pd.to_datetime(df['moment'])\n",
    "    return df"
   ]
  },
  {
   "cell_type": "markdown",
   "metadata": {},
   "source": [
    "## Pre-processing"
   ]
  },
  {
   "cell_type": "code",
   "execution_count": 97,
   "metadata": {
    "collapsed": false
   },
   "outputs": [],
   "source": [
    "def add_temporal_features(df):\n",
    "    df['weekday'] = df['moment'].map(lambda m: m.weekday())\n",
    "    df['hour'] = df['moment'].map(lambda m: m.hour)\n",
    "    df['minute'] = df['moment'].map(lambda m: m.minute)\n",
    "    return df\n",
    "\n",
    "\n",
    "def add_last_update(df):\n",
    "    df['last_moment'] = df['moment'].diff(1)\n",
    "    last_bikes = df['bikes'][:-1]\n",
    "    last_spaces = df['spaces'][:-1]\n",
    "    # The first row doesn't have any previous update, dropping one row is fine\n",
    "    df.drop(0, inplace=True)\n",
    "    df['last_moment'] = df['last_moment'].apply(lambda moment: moment.seconds)\n",
    "    df['last_bikes'] = last_bikes.tolist()\n",
    "    return df\n",
    "    \n",
    "\n",
    "    \n",
    "def add_weather_updates(city_df, city_name):\n",
    "    w_df = get_weather_updates(city)\n",
    "    w_times = pd.Series(wdf['moment'].values, wdf['moment'])\n",
    "    w_times.sort_values(inplace=True)\n",
    "    city_df['moment_weather'] = w_times.reindex(city_df['moment'], method='nearest').values\n",
    "    joined_df = pd.merge(left=city_df, right=w_df, left_on='moment_weather', right_on='moment', suffixes=('', '_y'))\n",
    "    joined_df.drop('moment_y', 1, inplace=True)\n",
    "    return joined_df"
   ]
  },
  {
   "cell_type": "code",
   "execution_count": 102,
   "metadata": {
    "collapsed": false
   },
   "outputs": [],
   "source": [
    "city = 'toulouse'\n",
    "station = '00229-iut-rangueil'\n",
    "\n",
    "df = get_station_updates(city, station)\n",
    "df = add_temporal_features(df)\n",
    "df = add_last_update(df)\n",
    "df = add_weather_updates(df, city)"
   ]
  },
  {
   "cell_type": "code",
   "execution_count": 103,
   "metadata": {
    "collapsed": false
   },
   "outputs": [],
   "source": [
    "features = [\n",
    "    'weekday',\n",
    "    'hour',\n",
    "    'minute',\n",
    "    'last_moment',\n",
    "    'last_bikes',\n",
    "    'clouds',\n",
    "    'humidity',\n",
    "    'pressure',\n",
    "    'temperature',\n",
    "    'wind'\n",
    "]\n",
    "\n",
    "target = 'bikes'\n",
    "\n",
    "X = df[features]\n",
    "y = df[target]"
   ]
  },
  {
   "cell_type": "code",
   "execution_count": 115,
   "metadata": {
    "collapsed": false
   },
   "outputs": [
    {
     "data": {
      "text/plain": [
       "0.33000208203206327"
      ]
     },
     "execution_count": 115,
     "metadata": {},
     "output_type": "execute_result"
    }
   ],
   "source": [
    "from sklearn import tree\n",
    "from sklearn import metrics\n",
    "from sklearn import model_selection\n",
    "\n",
    "clf = tree.DecisionTreeRegressor()\n",
    "\n",
    "\n",
    "X_train, X_test, y_train, y_test = model_selection.train_test_split(X, y, test_size=0.2)\n",
    "\n",
    "clf.fit(X_train, y_train)\n",
    "metrics.mean_absolute_error(y_test, clf.predict(X_test))"
   ]
  },
  {
   "cell_type": "markdown",
   "metadata": {},
   "source": [
    "## Let's go HAM"
   ]
  },
  {
   "cell_type": "code",
   "execution_count": null,
   "metadata": {
    "collapsed": true
   },
   "outputs": [],
   "source": []
  }
 ],
 "metadata": {
  "kernelspec": {
   "display_name": "Python 3",
   "language": "python",
   "name": "python3"
  },
  "language_info": {
   "codemirror_mode": {
    "name": "ipython",
    "version": 3
   },
   "file_extension": ".py",
   "mimetype": "text/x-python",
   "name": "python",
   "nbconvert_exporter": "python",
   "pygments_lexer": "ipython3",
   "version": "3.5.2"
  }
 },
 "nbformat": 4,
 "nbformat_minor": 0
}
