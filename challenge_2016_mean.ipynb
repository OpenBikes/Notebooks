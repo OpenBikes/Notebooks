{
 "cells": [
  {
   "cell_type": "markdown",
   "metadata": {},
   "source": [
    "# Average number of bikes per hour and per day\n",
    "\n",
    "This notebooks calculates the average number of bikes per hour and per day for each station to be predicted. It then predicts the number of expected bikes for the test set by using a nested lookup table where the keys are the days and the hours."
   ]
  },
  {
   "cell_type": "markdown",
   "metadata": {},
   "source": [
    "## Data loading"
   ]
  },
  {
   "cell_type": "code",
   "execution_count": 1,
   "metadata": {
    "collapsed": true
   },
   "outputs": [],
   "source": [
    "import pandas as pd\n",
    "\n",
    "def get_station_updates(city, station):\n",
    "    df = pd.read_csv('challenge_data/{}/stations/{}.csv'.format(city, station))\n",
    "    df['moment'] = pd.to_datetime(df['moment'])\n",
    "    return df"
   ]
  },
  {
   "cell_type": "markdown",
   "metadata": {},
   "source": [
    "## Fit"
   ]
  },
  {
   "cell_type": "code",
   "execution_count": 3,
   "metadata": {
    "collapsed": true
   },
   "outputs": [],
   "source": [
    "def mean_bikes_per_day_per_hour(city, station):\n",
    "    df = get_station_updates(city, station)\n",
    "    df['weekday'] = df['moment'].apply(lambda x: x.weekday())\n",
    "    df['hour'] = df['moment'].apply(lambda x: x.hour)\n",
    "    means = {\n",
    "        weekday: {\n",
    "            hour: group2['bikes'].mean()\n",
    "            for hour, group2 in group1.groupby('hour')\n",
    "        }\n",
    "        for weekday, group1 in df.groupby('weekday')\n",
    "    }\n",
    "    return means"
   ]
  },
  {
   "cell_type": "markdown",
   "metadata": {},
   "source": [
    "The lookup table can be visualized with a heatmap. In the following heatmap, each row indicates an hour and each column represents a day. The cells are \"warmer\" the more bikes there during that hour and day."
   ]
  },
  {
   "cell_type": "code",
   "execution_count": 8,
   "metadata": {
    "collapsed": false
   },
   "outputs": [
    {
     "data": {
      "text/plain": [
       "<matplotlib.axes._subplots.AxesSubplot at 0x10920f7f0>"
      ]
     },
     "execution_count": 8,
     "metadata": {},
     "output_type": "execute_result"
    },
    {
     "data": {
      "image/png": "[encoded data removed]",
      "text/plain": [
       "<matplotlib.figure.Figure at 0x10a44b7b8>"
      ]
     },
     "metadata": {},
     "output_type": "display_data"
    }
   ],
   "source": [
    "import seaborn as sns\n",
    "\n",
    "%matplotlib inline\n",
    "\n",
    "lookup_table = mean_bikes_per_day_per_hour('toulouse', '00003-pomme')\n",
    "hm = pd.DataFrame.from_dict(lookup_table, orient='index').T\n",
    "\n",
    "sns.heatmap(hm, cmap='Blues')"
   ]
  },
  {
   "cell_type": "markdown",
   "metadata": {},
   "source": [
    "## Predict"
   ]
  },
  {
   "cell_type": "code",
   "execution_count": 15,
   "metadata": {
    "collapsed": false
   },
   "outputs": [],
   "source": [
    "to_predict_df = pd.read_csv('challenge_data/test-blank.csv', index_col=0)\n",
    "to_predict_df['moment'] = pd.to_datetime(to_predict_df.index)\n",
    "to_predict_df['weekday'] = to_predict_df['moment'].map(lambda t: t.weekday())\n",
    "to_predict_df['hour'] = to_predict_df['moment'].map(lambda t: t.hour)"
   ]
  },
  {
   "cell_type": "markdown",
   "metadata": {},
   "source": [
    "Build a dictionary with the name of the cities and the stations to predict."
   ]
  },
  {
   "cell_type": "code",
   "execution_count": 14,
   "metadata": {
    "collapsed": false
   },
   "outputs": [],
   "source": [
    "means = {\n",
    "    city_name: {\n",
    "        station_name: mean_bikes_per_day_per_hour(city_name, station_name)\n",
    "        for station_name in rows['station'].unique()\n",
    "    }\n",
    "    for city_name, rows in to_predict_df.groupby('city')\n",
    "}"
   ]
  },
  {
   "cell_type": "markdown",
   "metadata": {},
   "source": [
    "For each row in the test set, get the average number of bikes from the lookup table."
   ]
  },
  {
   "cell_type": "code",
   "execution_count": 16,
   "metadata": {
    "collapsed": false
   },
   "outputs": [],
   "source": [
    "to_predict_df['bikes'] = to_predict_df.apply(lambda r: means[r['city']][r['station']][r['weekday']][r['hour']], axis=1).tolist()"
   ]
  },
  {
   "cell_type": "markdown",
   "metadata": {},
   "source": [
    "Delete the columns that are not necessary for submitting."
   ]
  },
  {
   "cell_type": "code",
   "execution_count": 22,
   "metadata": {
    "collapsed": false
   },
   "outputs": [],
   "source": [
    "to_predict_df.drop('moment', axis=1, inplace=True)\n",
    "to_predict_df.drop('weekday', axis=1, inplace=True)\n",
    "to_predict_df.drop('hour', axis=1, inplace=True)"
   ]
  },
  {
   "cell_type": "code",
   "execution_count": 23,
   "metadata": {
    "collapsed": false
   },
   "outputs": [
    {
     "data": {
      "text/html": [
       "<div>\n",
       "<table border=\"1\" class=\"dataframe\">\n",
       "  <thead>\n",
       "    <tr style=\"text-align: right;\">\n",
       "      <th></th>\n",
       "      <th>city</th>\n",
       "      <th>station</th>\n",
       "      <th>bikes</th>\n",
       "    </tr>\n",
       "  </thead>\n",
       "  <tbody>\n",
       "    <tr>\n",
       "      <th>2016-10-05 10:10:00</th>\n",
       "      <td>toulouse</td>\n",
       "      <td>00229-iut-rangueil</td>\n",
       "      <td>10.153846</td>\n",
       "    </tr>\n",
       "    <tr>\n",
       "      <th>2016-10-05 10:30:00</th>\n",
       "      <td>toulouse</td>\n",
       "      <td>00229-iut-rangueil</td>\n",
       "      <td>10.153846</td>\n",
       "    </tr>\n",
       "    <tr>\n",
       "      <th>2016-10-05 11:00:00</th>\n",
       "      <td>toulouse</td>\n",
       "      <td>00229-iut-rangueil</td>\n",
       "      <td>10.378571</td>\n",
       "    </tr>\n",
       "    <tr>\n",
       "      <th>2016-10-05 12:00:00</th>\n",
       "      <td>toulouse</td>\n",
       "      <td>00229-iut-rangueil</td>\n",
       "      <td>9.227273</td>\n",
       "    </tr>\n",
       "    <tr>\n",
       "      <th>2016-10-05 14:00:00</th>\n",
       "      <td>toulouse</td>\n",
       "      <td>00229-iut-rangueil</td>\n",
       "      <td>9.468966</td>\n",
       "    </tr>\n",
       "    <tr>\n",
       "      <th>2016-10-05 18:00:00</th>\n",
       "      <td>toulouse</td>\n",
       "      <td>00229-iut-rangueil</td>\n",
       "      <td>6.913514</td>\n",
       "    </tr>\n",
       "    <tr>\n",
       "      <th>2016-10-06 10:00:00</th>\n",
       "      <td>toulouse</td>\n",
       "      <td>00229-iut-rangueil</td>\n",
       "      <td>9.508772</td>\n",
       "    </tr>\n",
       "    <tr>\n",
       "      <th>2016-10-07 10:00:00</th>\n",
       "      <td>toulouse</td>\n",
       "      <td>00229-iut-rangueil</td>\n",
       "      <td>11.053097</td>\n",
       "    </tr>\n",
       "    <tr>\n",
       "      <th>2016-10-08 10:00:00</th>\n",
       "      <td>toulouse</td>\n",
       "      <td>00229-iut-rangueil</td>\n",
       "      <td>8.373239</td>\n",
       "    </tr>\n",
       "    <tr>\n",
       "      <th>2016-10-09 10:00:00</th>\n",
       "      <td>toulouse</td>\n",
       "      <td>00229-iut-rangueil</td>\n",
       "      <td>9.627907</td>\n",
       "    </tr>\n",
       "    <tr>\n",
       "      <th>2016-10-05 10:10:00</th>\n",
       "      <td>toulouse</td>\n",
       "      <td>00189-muret-boutinon</td>\n",
       "      <td>10.715686</td>\n",
       "    </tr>\n",
       "    <tr>\n",
       "      <th>2016-10-05 10:30:00</th>\n",
       "      <td>toulouse</td>\n",
       "      <td>00189-muret-boutinon</td>\n",
       "      <td>10.715686</td>\n",
       "    </tr>\n",
       "    <tr>\n",
       "      <th>2016-10-05 11:00:00</th>\n",
       "      <td>toulouse</td>\n",
       "      <td>00189-muret-boutinon</td>\n",
       "      <td>10.230769</td>\n",
       "    </tr>\n",
       "    <tr>\n",
       "      <th>2016-10-05 12:00:00</th>\n",
       "      <td>toulouse</td>\n",
       "      <td>00189-muret-boutinon</td>\n",
       "      <td>9.747368</td>\n",
       "    </tr>\n",
       "    <tr>\n",
       "      <th>2016-10-05 14:00:00</th>\n",
       "      <td>toulouse</td>\n",
       "      <td>00189-muret-boutinon</td>\n",
       "      <td>10.029412</td>\n",
       "    </tr>\n",
       "    <tr>\n",
       "      <th>2016-10-05 18:00:00</th>\n",
       "      <td>toulouse</td>\n",
       "      <td>00189-muret-boutinon</td>\n",
       "      <td>9.872340</td>\n",
       "    </tr>\n",
       "    <tr>\n",
       "      <th>2016-10-06 10:00:00</th>\n",
       "      <td>toulouse</td>\n",
       "      <td>00189-muret-boutinon</td>\n",
       "      <td>10.450000</td>\n",
       "    </tr>\n",
       "    <tr>\n",
       "      <th>2016-10-07 10:00:00</th>\n",
       "      <td>toulouse</td>\n",
       "      <td>00189-muret-boutinon</td>\n",
       "      <td>9.410256</td>\n",
       "    </tr>\n",
       "    <tr>\n",
       "      <th>2016-10-08 10:00:00</th>\n",
       "      <td>toulouse</td>\n",
       "      <td>00189-muret-boutinon</td>\n",
       "      <td>14.308943</td>\n",
       "    </tr>\n",
       "    <tr>\n",
       "      <th>2016-10-09 10:00:00</th>\n",
       "      <td>toulouse</td>\n",
       "      <td>00189-muret-boutinon</td>\n",
       "      <td>14.576271</td>\n",
       "    </tr>\n",
       "  </tbody>\n",
       "</table>\n",
       "</div>"
      ],
      "text/plain": [
       "                         city               station      bikes\n",
       "2016-10-05 10:10:00  toulouse    00229-iut-rangueil  10.153846\n",
       "2016-10-05 10:30:00  toulouse    00229-iut-rangueil  10.153846\n",
       "2016-10-05 11:00:00  toulouse    00229-iut-rangueil  10.378571\n",
       "2016-10-05 12:00:00  toulouse    00229-iut-rangueil   9.227273\n",
       "2016-10-05 14:00:00  toulouse    00229-iut-rangueil   9.468966\n",
       "2016-10-05 18:00:00  toulouse    00229-iut-rangueil   6.913514\n",
       "2016-10-06 10:00:00  toulouse    00229-iut-rangueil   9.508772\n",
       "2016-10-07 10:00:00  toulouse    00229-iut-rangueil  11.053097\n",
       "2016-10-08 10:00:00  toulouse    00229-iut-rangueil   8.373239\n",
       "2016-10-09 10:00:00  toulouse    00229-iut-rangueil   9.627907\n",
       "2016-10-05 10:10:00  toulouse  00189-muret-boutinon  10.715686\n",
       "2016-10-05 10:30:00  toulouse  00189-muret-boutinon  10.715686\n",
       "2016-10-05 11:00:00  toulouse  00189-muret-boutinon  10.230769\n",
       "2016-10-05 12:00:00  toulouse  00189-muret-boutinon   9.747368\n",
       "2016-10-05 14:00:00  toulouse  00189-muret-boutinon  10.029412\n",
       "2016-10-05 18:00:00  toulouse  00189-muret-boutinon   9.872340\n",
       "2016-10-06 10:00:00  toulouse  00189-muret-boutinon  10.450000\n",
       "2016-10-07 10:00:00  toulouse  00189-muret-boutinon   9.410256\n",
       "2016-10-08 10:00:00  toulouse  00189-muret-boutinon  14.308943\n",
       "2016-10-09 10:00:00  toulouse  00189-muret-boutinon  14.576271"
      ]
     },
     "execution_count": 23,
     "metadata": {},
     "output_type": "execute_result"
    }
   ],
   "source": [
    "to_predict_df.head(20)"
   ]
  }
 ],
 "metadata": {
  "kernelspec": {
   "display_name": "Python 3",
   "language": "python",
   "name": "python3"
  },
  "language_info": {
   "codemirror_mode": {
    "name": "ipython",
    "version": 3
   },
   "file_extension": ".py",
   "mimetype": "text/x-python",
   "name": "python",
   "nbconvert_exporter": "python",
   "pygments_lexer": "ipython3",
   "version": "3.5.2"
  }
 },
 "nbformat": 4,
 "nbformat_minor": 0
}
