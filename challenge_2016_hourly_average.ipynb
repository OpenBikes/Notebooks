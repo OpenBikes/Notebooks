{
 "cells": [
  {
   "cell_type": "markdown",
   "metadata": {},
   "source": [
    "# Average number of bikes per hour and per day\n",
    "\n",
    "This notebooks calculates the average number of bikes per hour and per day for each station to be predicted. It then predicts the number of expected bikes for the test set by using a nested lookup table where the keys are the days and the hours. This method scored 3.947."
   ]
  },
  {
   "cell_type": "markdown",
   "metadata": {},
   "source": [
    "## Data loading"
   ]
  },
  {
   "cell_type": "code",
   "execution_count": 1,
   "metadata": {
    "collapsed": true
   },
   "outputs": [],
   "source": [
    "import pandas as pd\n",
    "\n",
    "def get_station_updates(city, station):\n",
    "    df = pd.read_csv('challenge_data/part_1/{}/stations/{}.csv'.format(city, station))\n",
    "    df['moment'] = pd.to_datetime(df['moment'])\n",
    "    return df"
   ]
  },
  {
   "cell_type": "markdown",
   "metadata": {},
   "source": [
    "## Fit"
   ]
  },
  {
   "cell_type": "code",
   "execution_count": 2,
   "metadata": {
    "collapsed": true
   },
   "outputs": [],
   "source": [
    "def mean_bikes_per_day_per_hour(city, station):\n",
    "    df = get_station_updates(city, station)\n",
    "    df['weekday'] = df['moment'].map(lambda x: x.weekday())\n",
    "    df['hour'] = df['moment'].map(lambda x: x.hour)\n",
    "    means = {\n",
    "        weekday: {\n",
    "            hour: group2['bikes'].mean()\n",
    "            for hour, group2 in group1.groupby('hour')\n",
    "        }\n",
    "        for weekday, group1 in df.groupby('weekday')\n",
    "    }\n",
    "    return means"
   ]
  },
  {
   "cell_type": "markdown",
   "metadata": {},
   "source": [
    "The lookup table can be visualized with a heatmap. In the following heatmap, each row indicates an hour and each column represents a day. The cells are \"warmer\" the more bikes there during that hour and day."
   ]
  },
  {
   "cell_type": "code",
   "execution_count": 3,
   "metadata": {
    "collapsed": false
   },
   "outputs": [
    {
     "data": {
      "text/plain": [
       "<matplotlib.text.Text at 0x109670668>"
      ]
     },
     "execution_count": 3,
     "metadata": {},
     "output_type": "execute_result"
    },
    {
     "data": {
      "image/png": "[encoded data removed]",
      "text/plain": [
       "<matplotlib.figure.Figure at 0x106cb4d30>"
      ]
     },
     "metadata": {},
     "output_type": "display_data"
    }
   ],
   "source": [
    "import calendar\n",
    "import matplotlib.pyplot as plt\n",
    "import seaborn as sns\n",
    "\n",
    "%matplotlib inline\n",
    "\n",
    "lookup_table = mean_bikes_per_day_per_hour('toulouse', '00003-pomme')\n",
    "hm = pd.DataFrame.from_dict(lookup_table, orient='index').T\n",
    "hm.columns = [calendar.day_name[col] for col in hm.columns]\n",
    "\n",
    "plt.figure(figsize=(10, 6))\n",
    "sns.heatmap(hm, linewidths=.4, cmap='YlOrBr')\n",
    "plt.xlabel('Days', fontsize=16)\n",
    "plt.ylabel('Hours', fontsize=16)"
   ]
  },
  {
   "cell_type": "markdown",
   "metadata": {},
   "source": [
    "## Predict"
   ]
  },
  {
   "cell_type": "code",
   "execution_count": 4,
   "metadata": {
    "collapsed": false
   },
   "outputs": [],
   "source": [
    "to_predict_df = pd.read_csv('challenge_data/part_1/test-blank.csv', index_col=0)\n",
    "to_predict_df['moment'] = pd.to_datetime(to_predict_df.index)\n",
    "to_predict_df['weekday'] = to_predict_df['moment'].map(lambda t: t.weekday())\n",
    "to_predict_df['hour'] = to_predict_df['moment'].map(lambda t: t.hour)"
   ]
  },
  {
   "cell_type": "markdown",
   "metadata": {},
   "source": [
    "Build a dictionary with the name of the cities and the stations to predict."
   ]
  },
  {
   "cell_type": "code",
   "execution_count": 5,
   "metadata": {
    "collapsed": false
   },
   "outputs": [],
   "source": [
    "means = {\n",
    "    city_name: {\n",
    "        station_name: mean_bikes_per_day_per_hour(city_name, station_name)\n",
    "        for station_name in rows['station'].unique()\n",
    "    }\n",
    "    for city_name, rows in to_predict_df.groupby('city')\n",
    "}"
   ]
  },
  {
   "cell_type": "markdown",
   "metadata": {},
   "source": [
    "For each row in the test set, get the average number of bikes from the lookup table."
   ]
  },
  {
   "cell_type": "code",
   "execution_count": 6,
   "metadata": {
    "collapsed": false
   },
   "outputs": [],
   "source": [
    "to_predict_df['bikes'] = to_predict_df.apply(lambda r: means[r['city']][r['station']][r['weekday']][r['hour']], axis=1).tolist()"
   ]
  },
  {
   "cell_type": "markdown",
   "metadata": {},
   "source": [
    "Delete the columns that are not necessary for submitting."
   ]
  },
  {
   "cell_type": "code",
   "execution_count": 7,
   "metadata": {
    "collapsed": false
   },
   "outputs": [],
   "source": [
    "to_predict_df.drop('moment', axis=1, inplace=True)\n",
    "to_predict_df.drop('weekday', axis=1, inplace=True)\n",
    "to_predict_df.drop('hour', axis=1, inplace=True)"
   ]
  }
 ],
 "metadata": {
  "kernelspec": {
   "display_name": "Python 3",
   "language": "python",
   "name": "python3"
  },
  "language_info": {
   "codemirror_mode": {
    "name": "ipython",
    "version": 3
   },
   "file_extension": ".py",
   "mimetype": "text/x-python",
   "name": "python",
   "nbconvert_exporter": "python",
   "pygments_lexer": "ipython3",
   "version": "3.5.2"
  }
 },
 "nbformat": 4,
 "nbformat_minor": 0
}
