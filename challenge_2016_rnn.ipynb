{
 "cells": [
  {
   "cell_type": "markdown",
   "metadata": {},
   "source": [
    "# Recurrent neural network regression"
   ]
  },
  {
   "cell_type": "markdown",
   "metadata": {},
   "source": [
    "## Data loading"
   ]
  },
  {
   "cell_type": "code",
   "execution_count": 1,
   "metadata": {
    "collapsed": true
   },
   "outputs": [],
   "source": [
    "import pandas as pd\n",
    "\n",
    "\n",
    "def get_station_updates(city, station):\n",
    "    df = pd.read_csv('challenge_data/{}/stations/{}.csv'.format(city, station))\n",
    "    # We're predicting the number of bikes, not the number of spaces\n",
    "    df.drop('spaces', axis=1, inplace=True)\n",
    "    # Maybe some rows are duplicates, who knows...\n",
    "    df.drop_duplicates(subset='moment', inplace=True)\n",
    "    # Index by moment\n",
    "    df['moment'] = pd.to_datetime(df['moment'])\n",
    "    df.set_index('moment', drop=True, inplace=True)\n",
    "    return df"
   ]
  },
  {
   "cell_type": "markdown",
   "metadata": {},
   "source": [
    "## Pre-processing"
   ]
  },
  {
   "cell_type": "code",
   "execution_count": 6,
   "metadata": {
    "collapsed": false
   },
   "outputs": [],
   "source": [
    "import numpy as np\n",
    "\n",
    "\n",
    "def add_temporal_features(df):\n",
    "    df['weekday'] = df.index.map(lambda m: m.weekday())\n",
    "    df['hour'] = df.index.map(lambda m: m.hour)\n",
    "    df['minute'] = df.index.map(lambda m: m.minute)\n",
    "    return df\n",
    "\n",
    "\n",
    "def preprocess(df):\n",
    "    # Resample every 10 minutes and forward fill in the missing rows\n",
    "    df = df.resample('10min', label='right', closed='right').ffill()\n",
    "    # Extract temporal features\n",
    "    df = add_temporal_features(df)\n",
    "    # Floating point numbers are more suited for neural nets\n",
    "    df = df.astype('float32')\n",
    "    return df.values"
   ]
  },
  {
   "cell_type": "markdown",
   "metadata": {},
   "source": [
    "## Reshape into mini-timeseries"
   ]
  },
  {
   "cell_type": "code",
   "execution_count": 3,
   "metadata": {
    "collapsed": false
   },
   "outputs": [],
   "source": [
    "def reshape(data, look_back=1):\n",
    "    X, y = [], []\n",
    "    for i in range(look_back, len(data)):\n",
    "        X.append(data[i-look_back:i])\n",
    "        y.append(data[i][0])\n",
    "    X = np.array(X)\n",
    "    y = np.array(y)\n",
    "    return X, y"
   ]
  },
  {
   "cell_type": "markdown",
   "metadata": {},
   "source": [
    "## Train/test split"
   ]
  },
  {
   "cell_type": "markdown",
   "metadata": {},
   "source": [
    "For a normal regression problem we could use cross-validation to evaluate our model. With time series data the sequence of values is important, we have to take into account the order of the data. Predicting the past with current data doesn't make any sense."
   ]
  },
  {
   "cell_type": "code",
   "execution_count": 4,
   "metadata": {
    "collapsed": true
   },
   "outputs": [],
   "source": [
    "def train_test_split(X, y, train_ratio=0.8):\n",
    "    train_size = int(len(X) * train_ratio)\n",
    "    test_size = len(X) - train_size\n",
    "    X_train, X_test = X[:train_size], X[-test_size:]\n",
    "    y_train, y_test = y[:train_size], y[-test_size:]\n",
    "    return X_train, X_test, y_train, y_test"
   ]
  },
  {
   "cell_type": "markdown",
   "metadata": {},
   "source": [
    "## RNN on a single station"
   ]
  },
  {
   "cell_type": "code",
   "execution_count": 7,
   "metadata": {
    "collapsed": false
   },
   "outputs": [],
   "source": [
    "# Number of previous observations to take into account for forecasting\n",
    "look_back = 12\n",
    "\n",
    "df = get_station_updates('toulouse', '00003-pomme') # pandas dataframe\n",
    "data = preprocess(df) # numpy nd-array\n",
    "X, y = reshape(data, look_back=look_back)\n",
    "X_train, X_test, y_train, y_test = train_test_split(X[-20000:], y[-20000:])\n",
    "\n",
    "n_features = len(X_train[0, 0])"
   ]
  },
  {
   "cell_type": "code",
   "execution_count": 8,
   "metadata": {
    "collapsed": false
   },
   "outputs": [
    {
     "name": "stderr",
     "output_type": "stream",
     "text": [
      "Using TensorFlow backend.\n"
     ]
    },
    {
     "name": "stdout",
     "output_type": "stream",
     "text": [
      "Epoch 1/5\n",
      "16000/16000 [==============================] - 35s - loss: 5.0839    \n",
      "Epoch 2/5\n",
      "16000/16000 [==============================] - 28s - loss: 3.9886    \n",
      "Epoch 3/5\n",
      "16000/16000 [==============================] - 27s - loss: 3.0965    \n",
      "Epoch 4/5\n",
      "16000/16000 [==============================] - 27s - loss: 2.5155    \n",
      "Epoch 5/5\n",
      "16000/16000 [==============================] - 27s - loss: 2.2982    \n"
     ]
    },
    {
     "data": {
      "text/plain": [
       "<keras.callbacks.History at 0x111ae15f8>"
      ]
     },
     "execution_count": 8,
     "metadata": {},
     "output_type": "execute_result"
    }
   ],
   "source": [
    "from keras import models\n",
    "from keras import layers\n",
    "\n",
    "\n",
    "model = models.Sequential()\n",
    "topology = [n_features, 10, 10, 1]\n",
    "\n",
    "model.add(layers.LSTM(\n",
    "    input_dim=topology[0],\n",
    "    output_dim=topology[1],\n",
    "    input_length=look_back,\n",
    "    return_sequences=True,\n",
    "    unroll=True\n",
    "))\n",
    "model.add(layers.Dropout(0.2))\n",
    "model.add(layers.LSTM(topology[2], return_sequences=False))\n",
    "model.add(layers.Dropout(0.2))\n",
    "model.add(layers.Dense(output_dim=topology[3]))\n",
    "model.add(layers.Activation('linear'))\n",
    "model.compile(loss='mean_absolute_error', optimizer='sgd')\n",
    "model.fit(X_train, y_train, nb_epoch=5, batch_size=64, verbose=1)"
   ]
  },
  {
   "cell_type": "markdown",
   "metadata": {},
   "source": [
    "We can then call the `.evaluate()` method of the neural network to predict all the values in the test set and compare these predictions to the true values."
   ]
  },
  {
   "cell_type": "code",
   "execution_count": 9,
   "metadata": {
    "collapsed": false
   },
   "outputs": [
    {
     "name": "stdout",
     "output_type": "stream",
     "text": [
      "Test mean absolute error: 2.13\n"
     ]
    }
   ],
   "source": [
    "# Estimate model performance\n",
    "test_score = model.evaluate(X_test, y_test, verbose=0)\n",
    "print('Test mean absolute error: {:.2f}'.format(test_score))"
   ]
  },
  {
   "cell_type": "markdown",
   "metadata": {},
   "source": [
    "We can also plot some of the predicted values against the true values from the test set."
   ]
  },
  {
   "cell_type": "code",
   "execution_count": 10,
   "metadata": {
    "collapsed": false
   },
   "outputs": [
    {
     "data": {
      "text/plain": [
       "<matplotlib.legend.Legend at 0x113994630>"
      ]
     },
     "execution_count": 10,
     "metadata": {},
     "output_type": "execute_result"
    },
    {
     "data": {
      "image/png": "[encoded data removed]",
      "text/plain": [
       "<matplotlib.figure.Figure at 0x112608978>"
      ]
     },
     "metadata": {},
     "output_type": "display_data"
    }
   ],
   "source": [
    "import matplotlib.pyplot as plt\n",
    "\n",
    "%matplotlib inline\n",
    "plt.style.use('ggplot')\n",
    "\n",
    "# Generate predictions for training\n",
    "y_pred = model.predict(X_test)\n",
    "\n",
    "fig, ax = plt.subplots()\n",
    "ax.plot(y_test[-1000:], alpha=0.5, label='Truth')\n",
    "ax.plot(y_pred[-1000:], alpha=0.5, label='Predicted')\n",
    "ax.legend()"
   ]
  },
  {
   "cell_type": "markdown",
   "metadata": {},
   "source": [
    "This works but it is deceptive. At every time step $t$ the last $n-1$ observations that were used for predicting were known to be true. This is fine if we want to predict the next time step, however in our case we will have to predict multiple points in the future.\n",
    "\n",
    "To do so we will have to simulate the time steps one-by-one by using a sliding window. We set an initial window to contain $k$ observations. We use these $k$ observations to predict the next obsersation. We then \"slide\" the window by removing the first observation and putting the predicted observation at the end of the window. After $k$ steps none of the initial observations will remain because they will have been replaced with predicted observations one-by-one.\n",
    "\n",
    "This and other matters are illustrated in one of [Jakob Aungiers's blog posts](http://www.jakob-aungiers.com/articles/a/LSTM-Neural-Network-for-Time-Series-Prediction)."
   ]
  },
  {
   "cell_type": "markdown",
   "metadata": {},
   "source": [
    "## Train an RNN for each station in the test set"
   ]
  },
  {
   "cell_type": "code",
   "execution_count": 11,
   "metadata": {
    "collapsed": false
   },
   "outputs": [
    {
     "name": "stdout",
     "output_type": "stream",
     "text": [
      "0 - 00003-pomme - 24.81 s.\n",
      "1 - 00040-colombette - 47.67 s.\n",
      "2 - 00055-st-sernin-g-arnoult - 70.47 s.\n",
      "3 - 00065-verdier-grand-rond - 93.68 s.\n",
      "4 - 00161-rangueil-bedouce - 116.74 s.\n",
      "5 - 00189-muret-boutinon - 140.48 s.\n",
      "6 - 00204-pl-roger-arnaud - 165.26 s.\n",
      "7 - 00210-terrasse-centre-co - 188.58 s.\n",
      "8 - 00229-iut-rangueil - 212.93 s.\n",
      "9 - 00243-etats-unis-ferry - 237.77 s.\n",
      "10 - 01020-rivoli-concorde - 261.79 s.\n",
      "11 - 04013-francs-bourgeois - 286.93 s.\n",
      "12 - 07008-solferino - 310.70 s.\n",
      "13 - 08035-narvick - 333.31 s.\n",
      "14 - 08046-alma-marceau - 356.87 s.\n",
      "15 - 08101-londres-amsterdam - 381.88 s.\n",
      "16 - 1-ave-e-30-st - 406.70 s.\n",
      "17 - 12029-dugommier - 430.06 s.\n",
      "18 - 15020-mairie-du-15eme - 454.46 s.\n",
      "19 - 23001-couturier-1-levallois - 478.12 s.\n",
      "20 - 3-ave-schermerhorn-st - 504.38 s.\n",
      "21 - 43002-lagny-vincennes - 529.30 s.\n",
      "22 - broad-st-bridge-st - 553.61 s.\n",
      "23 - clinton-st-grand-st - 578.77 s.\n",
      "24 - e-11-st-1-ave - 602.42 s.\n",
      "25 - e-17-st-broadway - 626.58 s.\n",
      "26 - exchange-place - 650.78 s.\n",
      "27 - kent-ave-s-11-st - 673.87 s.\n",
      "28 - pershing-square-north - 696.69 s.\n",
      "29 - w-4-st-7-ave-s - 721.20 s.\n"
     ]
    }
   ],
   "source": [
    "import time\n",
    "\n",
    "\n",
    "station_models = {}\n",
    "to_predict_df = pd.read_csv('challenge_data/test-blank.csv', index_col=0)\n",
    "t0 = time.time()\n",
    "\n",
    "for i, (station, group) in enumerate(to_predict_df.groupby('station')):\n",
    "    city = group['city'][0]\n",
    "    df_station = get_station_updates(city, station)\n",
    "    data_station = preprocess(df_station)[-3000:]\n",
    "    X_station, y_station = reshape(data_station, look_back=look_back)\n",
    "    model.fit(X_station, y_station, nb_epoch=5, batch_size=64, verbose=0)\n",
    "    station_models[station] = model\n",
    "    print('{} - {} - {:.2f} s.'.format(i, station, time.time() - t0))"
   ]
  },
  {
   "cell_type": "markdown",
   "metadata": {},
   "source": [
    "## Simulate a scenario for each station in the test set"
   ]
  },
  {
   "cell_type": "code",
   "execution_count": 12,
   "metadata": {
    "collapsed": false
   },
   "outputs": [
    {
     "name": "stdout",
     "output_type": "stream",
     "text": [
      "2017-01-04 10:10:00 7.0\n",
      "2017-01-04 10:20:00 6.0\n",
      "2017-01-04 10:30:00 6.0\n",
      "2017-01-04 10:40:00 5.0\n",
      "2017-01-04 10:50:00 4.0\n",
      "2017-01-04 11:00:00 4.0\n",
      "2017-01-04 11:10:00 5.0\n",
      "2017-01-04 11:20:00 4.0\n",
      "2017-01-04 11:30:00 4.0\n",
      "2017-01-04 11:40:00 3.0\n",
      "2017-01-04 11:50:00 3.0\n",
      "2017-01-04 12:00:00 3.0\n",
      "0 - 00003-pomme - 0.52 s.\n",
      "2017-01-04 10:10:00 4.0\n",
      "2017-01-04 10:20:00 4.0\n",
      "2017-01-04 10:30:00 3.0\n",
      "2017-01-04 10:40:00 3.0\n",
      "2017-01-04 10:50:00 2.0\n",
      "2017-01-04 11:00:00 2.0\n",
      "2017-01-04 11:10:00 2.0\n",
      "2017-01-04 11:20:00 2.0\n",
      "2017-01-04 11:30:00 2.0\n",
      "2017-01-04 11:40:00 1.0\n",
      "2017-01-04 11:50:00 1.0\n",
      "2017-01-04 12:00:00 1.0\n",
      "1 - 00040-colombette - 1.01 s.\n",
      "2017-01-04 10:10:00 11.0\n",
      "2017-01-04 10:20:00 10.0\n",
      "2017-01-04 10:30:00 9.0\n",
      "2017-01-04 10:40:00 8.0\n",
      "2017-01-04 10:50:00 7.0\n",
      "2017-01-04 11:00:00 8.0\n",
      "2017-01-04 11:10:00 8.0\n",
      "2017-01-04 11:20:00 8.0\n",
      "2017-01-04 11:30:00 8.0\n",
      "2017-01-04 11:40:00 7.0\n",
      "2017-01-04 11:50:00 6.0\n",
      "2017-01-04 12:00:00 7.0\n",
      "2 - 00055-st-sernin-g-arnoult - 1.45 s.\n",
      "2017-01-04 10:10:00 20.0\n",
      "2017-01-04 10:20:00 21.0\n",
      "2017-01-04 10:30:00 19.0\n",
      "2017-01-04 10:40:00 18.0\n",
      "2017-01-04 10:50:00 17.0\n",
      "2017-01-04 11:00:00 18.0\n",
      "2017-01-04 11:10:00 19.0\n",
      "2017-01-04 11:20:00 20.0\n",
      "2017-01-04 11:30:00 19.0\n",
      "2017-01-04 11:40:00 18.0\n",
      "2017-01-04 11:50:00 17.0\n",
      "2017-01-04 12:00:00 19.0\n",
      "3 - 00065-verdier-grand-rond - 1.99 s.\n",
      "2017-01-04 10:10:00 7.0\n",
      "2017-01-04 10:20:00 7.0\n",
      "2017-01-04 10:30:00 6.0\n",
      "2017-01-04 10:40:00 6.0\n",
      "2017-01-04 10:50:00 5.0\n",
      "2017-01-04 11:00:00 5.0\n",
      "2017-01-04 11:10:00 6.0\n",
      "2017-01-04 11:20:00 6.0\n",
      "2017-01-04 11:30:00 6.0\n",
      "2017-01-04 11:40:00 5.0\n",
      "2017-01-04 11:50:00 4.0\n",
      "2017-01-04 12:00:00 4.0\n",
      "4 - 00161-rangueil-bedouce - 2.47 s.\n",
      "2017-01-04 10:10:00 1.0\n",
      "2017-01-04 10:20:00 1.0\n",
      "2017-01-04 10:30:00 1.0\n",
      "2017-01-04 10:40:00 1.0\n",
      "2017-01-04 10:50:00 1.0\n",
      "2017-01-04 11:00:00 1.0\n",
      "2017-01-04 11:10:00 1.0\n",
      "2017-01-04 11:20:00 1.0\n",
      "2017-01-04 11:30:00 1.0\n",
      "2017-01-04 11:40:00 1.0\n",
      "2017-01-04 11:50:00 1.0\n",
      "2017-01-04 12:00:00 1.0\n",
      "5 - 00189-muret-boutinon - 3.14 s.\n",
      "2017-01-04 10:10:00 2.0\n",
      "2017-01-04 10:20:00 2.0\n",
      "2017-01-04 10:30:00 2.0\n",
      "2017-01-04 10:40:00 1.0\n",
      "2017-01-04 10:50:00 1.0\n",
      "2017-01-04 11:00:00 1.0\n",
      "2017-01-04 11:10:00 1.0\n",
      "2017-01-04 11:20:00 1.0\n",
      "2017-01-04 11:30:00 1.0\n",
      "2017-01-04 11:40:00 1.0\n",
      "2017-01-04 11:50:00 1.0\n",
      "2017-01-04 12:00:00 1.0\n",
      "6 - 00204-pl-roger-arnaud - 3.57 s.\n",
      "2017-01-04 10:10:00 6.0\n",
      "2017-01-04 10:20:00 5.0\n",
      "2017-01-04 10:30:00 4.0\n",
      "2017-01-04 10:40:00 3.0\n",
      "2017-01-04 10:50:00 3.0\n",
      "2017-01-04 11:00:00 3.0\n",
      "2017-01-04 11:10:00 3.0\n",
      "2017-01-04 11:20:00 3.0\n",
      "2017-01-04 11:30:00 2.0\n",
      "2017-01-04 11:40:00 2.0\n",
      "2017-01-04 11:50:00 2.0\n",
      "2017-01-04 12:00:00 2.0\n",
      "7 - 00210-terrasse-centre-co - 4.04 s.\n",
      "2017-01-04 10:10:00 5.0\n",
      "2017-01-04 10:20:00 5.0\n",
      "2017-01-04 10:30:00 4.0\n",
      "2017-01-04 10:40:00 4.0\n",
      "2017-01-04 10:50:00 3.0\n",
      "2017-01-04 11:00:00 3.0\n",
      "2017-01-04 11:10:00 3.0\n",
      "2017-01-04 11:20:00 3.0\n",
      "2017-01-04 11:30:00 2.0\n",
      "2017-01-04 11:40:00 2.0\n",
      "2017-01-04 11:50:00 2.0\n",
      "2017-01-04 12:00:00 2.0\n",
      "8 - 00229-iut-rangueil - 4.50 s.\n",
      "2017-01-04 10:10:00 6.0\n",
      "2017-01-04 10:20:00 6.0\n",
      "2017-01-04 10:30:00 5.0\n",
      "2017-01-04 10:40:00 5.0\n",
      "2017-01-04 10:50:00 4.0\n",
      "2017-01-04 11:00:00 4.0\n",
      "2017-01-04 11:10:00 4.0\n",
      "2017-01-04 11:20:00 4.0\n",
      "2017-01-04 11:30:00 4.0\n",
      "2017-01-04 11:40:00 3.0\n",
      "2017-01-04 11:50:00 3.0\n",
      "2017-01-04 12:00:00 3.0\n",
      "9 - 00243-etats-unis-ferry - 4.99 s.\n",
      "2017-01-04 10:10:00 12.0\n",
      "2017-01-04 10:20:00 12.0\n",
      "2017-01-04 10:30:00 12.0\n",
      "2017-01-04 10:40:00 10.0\n",
      "2017-01-04 10:50:00 9.0\n",
      "2017-01-04 11:00:00 9.0\n",
      "2017-01-04 11:10:00 11.0\n",
      "2017-01-04 11:20:00 10.0\n",
      "2017-01-04 11:30:00 11.0\n",
      "2017-01-04 11:40:00 8.0\n",
      "2017-01-04 11:50:00 7.0\n",
      "2017-01-04 12:00:00 7.0\n",
      "10 - 01020-rivoli-concorde - 5.54 s.\n",
      "2017-01-04 10:10:00 1.0\n",
      "2017-01-04 10:20:00 1.0\n",
      "2017-01-04 10:30:00 1.0\n",
      "2017-01-04 10:40:00 1.0\n",
      "2017-01-04 10:50:00 1.0\n",
      "2017-01-04 11:00:00 1.0\n",
      "2017-01-04 11:10:00 1.0\n",
      "2017-01-04 11:20:00 1.0\n",
      "2017-01-04 11:30:00 1.0\n",
      "2017-01-04 11:40:00 1.0\n",
      "2017-01-04 11:50:00 1.0\n",
      "2017-01-04 12:00:00 1.0\n",
      "11 - 04013-francs-bourgeois - 5.97 s.\n",
      "2017-01-04 10:10:00 8.0\n",
      "2017-01-04 10:20:00 7.0\n",
      "2017-01-04 10:30:00 7.0\n",
      "2017-01-04 10:40:00 6.0\n",
      "2017-01-04 10:50:00 5.0\n",
      "2017-01-04 11:00:00 6.0\n",
      "2017-01-04 11:10:00 6.0\n",
      "2017-01-04 11:20:00 6.0\n",
      "2017-01-04 11:30:00 6.0\n",
      "2017-01-04 11:40:00 5.0\n",
      "2017-01-04 11:50:00 4.0\n",
      "2017-01-04 12:00:00 4.0\n",
      "12 - 07008-solferino - 6.35 s.\n",
      "2017-01-04 10:10:00 3.0\n",
      "2017-01-04 10:20:00 3.0\n",
      "2017-01-04 10:30:00 3.0\n",
      "2017-01-04 10:40:00 2.0\n",
      "2017-01-04 10:50:00 2.0\n",
      "2017-01-04 11:00:00 2.0\n",
      "2017-01-04 11:10:00 2.0\n",
      "2017-01-04 11:20:00 2.0\n",
      "2017-01-04 11:30:00 2.0\n",
      "2017-01-04 11:40:00 1.0\n",
      "2017-01-04 11:50:00 1.0\n",
      "2017-01-04 12:00:00 1.0\n",
      "13 - 08035-narvick - 6.75 s.\n",
      "2017-01-04 10:10:00 14.0\n",
      "2017-01-04 10:20:00 13.0\n",
      "2017-01-04 10:30:00 13.0\n",
      "2017-01-04 10:40:00 11.0\n",
      "2017-01-04 10:50:00 10.0\n",
      "2017-01-04 11:00:00 12.0\n",
      "2017-01-04 11:10:00 13.0\n",
      "2017-01-04 11:20:00 12.0\n",
      "2017-01-04 11:30:00 13.0\n",
      "2017-01-04 11:40:00 12.0\n",
      "2017-01-04 11:50:00 10.0\n",
      "2017-01-04 12:00:00 11.0\n",
      "14 - 08046-alma-marceau - 7.15 s.\n",
      "2017-01-04 10:10:00 7.0\n",
      "2017-01-04 10:20:00 6.0\n",
      "2017-01-04 10:30:00 5.0\n",
      "2017-01-04 10:40:00 4.0\n",
      "2017-01-04 10:50:00 3.0\n",
      "2017-01-04 11:00:00 3.0\n",
      "2017-01-04 11:10:00 3.0\n",
      "2017-01-04 11:20:00 3.0\n",
      "2017-01-04 11:30:00 2.0\n",
      "2017-01-04 11:40:00 2.0\n",
      "2017-01-04 11:50:00 2.0\n",
      "2017-01-04 12:00:00 2.0\n",
      "15 - 08101-londres-amsterdam - 7.69 s.\n",
      "2017-01-04 10:10:00 24.0\n",
      "2017-01-04 10:20:00 25.0\n",
      "2017-01-04 10:30:00 23.0\n",
      "2017-01-04 10:40:00 21.0\n",
      "2017-01-04 10:50:00 19.0\n",
      "2017-01-04 11:00:00 19.0\n",
      "2017-01-04 11:10:00 22.0\n",
      "2017-01-04 11:20:00 23.0\n",
      "2017-01-04 11:30:00 23.0\n",
      "2017-01-04 11:40:00 21.0\n",
      "2017-01-04 11:50:00 20.0\n",
      "2017-01-04 12:00:00 20.0\n",
      "16 - 1-ave-e-30-st - 8.13 s.\n",
      "2017-01-04 10:10:00 23.0\n",
      "2017-01-04 10:20:00 26.0\n",
      "2017-01-04 10:30:00 26.0\n",
      "2017-01-04 10:40:00 24.0\n",
      "2017-01-04 10:50:00 22.0\n",
      "2017-01-04 11:00:00 21.0\n",
      "2017-01-04 11:10:00 22.0\n",
      "2017-01-04 11:20:00 24.0\n",
      "2017-01-04 11:30:00 26.0\n",
      "2017-01-04 11:40:00 25.0\n",
      "2017-01-04 11:50:00 23.0\n",
      "2017-01-04 12:00:00 22.0\n",
      "17 - 12029-dugommier - 8.53 s.\n",
      "2017-01-04 10:10:00 8.0\n",
      "2017-01-04 10:20:00 8.0\n",
      "2017-01-04 10:30:00 7.0\n",
      "2017-01-04 10:40:00 6.0\n",
      "2017-01-04 10:50:00 5.0\n",
      "2017-01-04 11:00:00 5.0\n",
      "2017-01-04 11:10:00 6.0\n",
      "2017-01-04 11:20:00 6.0\n",
      "2017-01-04 11:30:00 6.0\n",
      "2017-01-04 11:40:00 5.0\n",
      "2017-01-04 11:50:00 4.0\n",
      "2017-01-04 12:00:00 4.0\n",
      "18 - 15020-mairie-du-15eme - 8.94 s.\n",
      "2017-01-04 10:10:00 15.0\n",
      "2017-01-04 10:20:00 16.0\n",
      "2017-01-04 10:30:00 17.0\n",
      "2017-01-04 10:40:00 18.0\n",
      "2017-01-04 10:50:00 15.0\n",
      "2017-01-04 11:00:00 16.0\n",
      "2017-01-04 11:10:00 17.0\n",
      "2017-01-04 11:20:00 18.0\n",
      "2017-01-04 11:30:00 18.0\n",
      "2017-01-04 11:40:00 19.0\n",
      "2017-01-04 11:50:00 18.0\n",
      "2017-01-04 12:00:00 18.0\n",
      "19 - 23001-couturier-1-levallois - 9.34 s.\n",
      "2017-01-04 10:10:00 11.0\n",
      "2017-01-04 10:20:00 10.0\n",
      "2017-01-04 10:30:00 9.0\n",
      "2017-01-04 10:40:00 8.0\n",
      "2017-01-04 10:50:00 7.0\n",
      "2017-01-04 11:00:00 8.0\n",
      "2017-01-04 11:10:00 9.0\n",
      "2017-01-04 11:20:00 9.0\n",
      "2017-01-04 11:30:00 8.0\n",
      "2017-01-04 11:40:00 7.0\n",
      "2017-01-04 11:50:00 7.0\n",
      "2017-01-04 12:00:00 7.0\n",
      "20 - 3-ave-schermerhorn-st - 9.99 s.\n",
      "2017-01-04 10:10:00 12.0\n",
      "2017-01-04 10:20:00 13.0\n",
      "2017-01-04 10:30:00 15.0\n",
      "2017-01-04 10:40:00 13.0\n",
      "2017-01-04 10:50:00 10.0\n",
      "2017-01-04 11:00:00 11.0\n",
      "2017-01-04 11:10:00 12.0\n",
      "2017-01-04 11:20:00 13.0\n",
      "2017-01-04 11:30:00 15.0\n",
      "2017-01-04 11:40:00 14.0\n",
      "2017-01-04 11:50:00 10.0\n",
      "2017-01-04 12:00:00 12.0\n",
      "21 - 43002-lagny-vincennes - 10.39 s.\n",
      "2017-01-04 10:10:00 26.0\n",
      "2017-01-04 10:20:00 27.0\n",
      "2017-01-04 10:30:00 28.0\n",
      "2017-01-04 10:40:00 27.0\n",
      "2017-01-04 10:50:00 27.0\n",
      "2017-01-04 11:00:00 29.0\n",
      "2017-01-04 11:10:00 29.0\n",
      "2017-01-04 11:20:00 28.0\n",
      "2017-01-04 11:30:00 28.0\n",
      "2017-01-04 11:40:00 26.0\n",
      "2017-01-04 11:50:00 25.0\n",
      "2017-01-04 12:00:00 26.0\n",
      "22 - broad-st-bridge-st - 10.94 s.\n",
      "2017-01-04 10:10:00 1.0\n",
      "2017-01-04 10:20:00 1.0\n",
      "2017-01-04 10:30:00 1.0\n",
      "2017-01-04 10:40:00 1.0\n",
      "2017-01-04 10:50:00 1.0\n",
      "2017-01-04 11:00:00 1.0\n",
      "2017-01-04 11:10:00 1.0\n",
      "2017-01-04 11:20:00 1.0\n",
      "2017-01-04 11:30:00 1.0\n",
      "2017-01-04 11:40:00 1.0\n",
      "2017-01-04 11:50:00 1.0\n",
      "2017-01-04 12:00:00 1.0\n",
      "23 - clinton-st-grand-st - 11.53 s.\n",
      "2017-01-04 10:10:00 1.0\n",
      "2017-01-04 10:20:00 1.0\n",
      "2017-01-04 10:30:00 1.0\n",
      "2017-01-04 10:40:00 1.0\n",
      "2017-01-04 10:50:00 1.0\n",
      "2017-01-04 11:00:00 1.0\n",
      "2017-01-04 11:10:00 1.0\n",
      "2017-01-04 11:20:00 1.0\n",
      "2017-01-04 11:30:00 1.0\n",
      "2017-01-04 11:40:00 1.0\n",
      "2017-01-04 11:50:00 1.0\n",
      "2017-01-04 12:00:00 1.0\n",
      "24 - e-11-st-1-ave - 12.09 s.\n",
      "2017-01-04 10:10:00 28.0\n",
      "2017-01-04 10:20:00 28.0\n",
      "2017-01-04 10:30:00 29.0\n",
      "2017-01-04 10:40:00 29.0\n",
      "2017-01-04 10:50:00 32.0\n",
      "2017-01-04 11:00:00 32.0\n",
      "2017-01-04 11:10:00 32.0\n",
      "2017-01-04 11:20:00 32.0\n",
      "2017-01-04 11:30:00 33.0\n",
      "2017-01-04 11:40:00 33.0\n",
      "2017-01-04 11:50:00 31.0\n",
      "2017-01-04 12:00:00 30.0\n",
      "25 - e-17-st-broadway - 12.74 s.\n",
      "2017-01-04 10:10:00 22.0\n",
      "2017-01-04 10:20:00 25.0\n",
      "2017-01-04 10:30:00 28.0\n",
      "2017-01-04 10:40:00 26.0\n",
      "2017-01-04 10:50:00 24.0\n",
      "2017-01-04 11:00:00 25.0\n",
      "2017-01-04 11:10:00 26.0\n",
      "2017-01-04 11:20:00 27.0\n",
      "2017-01-04 11:30:00 31.0\n",
      "2017-01-04 11:40:00 30.0\n",
      "2017-01-04 11:50:00 27.0\n",
      "2017-01-04 12:00:00 26.0\n",
      "26 - exchange-place - 13.17 s.\n",
      "2017-01-04 10:10:00 2.0\n",
      "2017-01-04 10:20:00 2.0\n",
      "2017-01-04 10:30:00 2.0\n",
      "2017-01-04 10:40:00 2.0\n",
      "2017-01-04 10:50:00 2.0\n",
      "2017-01-04 11:00:00 2.0\n",
      "2017-01-04 11:10:00 2.0\n",
      "2017-01-04 11:20:00 2.0\n",
      "2017-01-04 11:30:00 2.0\n",
      "2017-01-04 11:40:00 1.0\n",
      "2017-01-04 11:50:00 1.0\n",
      "2017-01-04 12:00:00 1.0\n",
      "27 - kent-ave-s-11-st - 13.66 s.\n",
      "2017-01-04 10:10:00 1.0\n",
      "2017-01-04 10:20:00 1.0\n",
      "2017-01-04 10:30:00 1.0\n",
      "2017-01-04 10:40:00 1.0\n",
      "2017-01-04 10:50:00 1.0\n",
      "2017-01-04 11:00:00 1.0\n",
      "2017-01-04 11:10:00 1.0\n",
      "2017-01-04 11:20:00 1.0\n",
      "2017-01-04 11:30:00 1.0\n",
      "2017-01-04 11:40:00 1.0\n",
      "2017-01-04 11:50:00 1.0\n",
      "2017-01-04 12:00:00 1.0\n",
      "28 - pershing-square-north - 14.12 s.\n",
      "2017-01-04 10:10:00 1.0\n",
      "2017-01-04 10:20:00 1.0\n",
      "2017-01-04 10:30:00 1.0\n",
      "2017-01-04 10:40:00 1.0\n",
      "2017-01-04 10:50:00 1.0\n",
      "2017-01-04 11:00:00 1.0\n",
      "2017-01-04 11:10:00 1.0\n",
      "2017-01-04 11:20:00 1.0\n",
      "2017-01-04 11:30:00 1.0\n",
      "2017-01-04 11:40:00 1.0\n",
      "2017-01-04 11:50:00 1.0\n",
      "2017-01-04 12:00:00 1.0\n",
      "29 - w-4-st-7-ave-s - 14.68 s.\n"
     ]
    }
   ],
   "source": [
    "import datetime as dt\n",
    "\n",
    "\n",
    "scenarios = {}\n",
    "t0 = time.time()\n",
    "\n",
    "for i, (station, group) in enumerate(to_predict_df.groupby('station')):\n",
    "    scenarios[station] = {}\n",
    "    city = group['city'][0]\n",
    "    model = station_models[station]\n",
    "\n",
    "    # Simulate from 10:10 until 12:00 for the first day\n",
    "    since = dt.datetime(year=2017, month=1, day=4, hour=10, minute=10)\n",
    "    until = dt.datetime(year=2017, month=1, day=4, hour=12, minute=0)\n",
    "\n",
    "    # Initialize a sliding window with the most recent observations\n",
    "    df_station = get_station_updates(city, station)\n",
    "    window = preprocess(df_station)[-look_back:].copy()\n",
    "\n",
    "    now = since\n",
    "    while now <= until:\n",
    "        prediction = np.round(model.predict(window.reshape(1, look_back, n_features))[0][0])\n",
    "        print(now, prediction)\n",
    "        scenarios[station][now] = prediction\n",
    "        now += dt.timedelta(minutes=10)\n",
    "        # Update the sliding window\n",
    "        window = np.append(window[1:], [[\n",
    "            prediction,\n",
    "            float(now.weekday()),\n",
    "            float(now.hour),\n",
    "            float(now.minute)\n",
    "        ]], axis=0)\n",
    "\n",
    "    print('{} - {} - {:.2f} s.'.format(i, station, time.time() - t0))"
   ]
  },
  {
   "cell_type": "markdown",
   "metadata": {},
   "source": [
    "I then use these values and replace the values in the windowed average submission."
   ]
  }
 ],
 "metadata": {
  "kernelspec": {
   "display_name": "Python 3",
   "language": "python",
   "name": "python3"
  },
  "language_info": {
   "codemirror_mode": {
    "name": "ipython",
    "version": 3
   },
   "file_extension": ".py",
   "mimetype": "text/x-python",
   "name": "python",
   "nbconvert_exporter": "python",
   "pygments_lexer": "ipython3",
   "version": "3.5.2"
  }
 },
 "nbformat": 4,
 "nbformat_minor": 0
}
